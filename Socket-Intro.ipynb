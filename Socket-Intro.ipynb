{
 "cells": [
  {
   "cell_type": "markdown",
   "metadata": {},
   "source": [
    "## Let's get started using sockets!"
   ]
  },
  {
   "cell_type": "markdown",
   "metadata": {},
   "source": [
    "Read the Python docs on sockets: https://docs.python.org/3/library/socket.html\n",
    "\n",
    "\n",
    "Import the socket library. Its built-in to Python, so no separate install is required."
   ]
  },
  {
   "cell_type": "code",
   "execution_count": 2,
   "metadata": {},
   "outputs": [],
   "source": [
    "import socket"
   ]
  },
  {
   "cell_type": "markdown",
   "metadata": {},
   "source": [
    "The Python sockets library allows us to find out what port a service uses."
   ]
  },
  {
   "cell_type": "code",
   "execution_count": 2,
   "metadata": {},
   "outputs": [
    {
     "data": {
      "text/plain": [
       "22"
      ]
     },
     "execution_count": 2,
     "metadata": {},
     "output_type": "execute_result"
    }
   ],
   "source": [
    "socket.getservbyname('ssh')"
   ]
  },
  {
   "cell_type": "markdown",
   "metadata": {},
   "source": [
    "You can also do a reverse lookup, finding what service uses a given port."
   ]
  },
  {
   "cell_type": "code",
   "execution_count": 3,
   "metadata": {},
   "outputs": [
    {
     "data": {
      "text/plain": [
       "'http'"
      ]
     },
     "execution_count": 3,
     "metadata": {},
     "output_type": "execute_result"
    }
   ],
   "source": [
    "socket.getservbyport(80)"
   ]
  },
  {
   "cell_type": "markdown",
   "metadata": {},
   "source": [
    "The sockets library also provides tools for finding out information about hosts. For example, you can find out about the hostname and IP address of the machine you are currently using."
   ]
  },
  {
   "cell_type": "code",
   "execution_count": 4,
   "metadata": {},
   "outputs": [
    {
     "data": {
      "text/plain": [
       "'LAPTOP-BQP6HJU5'"
      ]
     },
     "execution_count": 4,
     "metadata": {},
     "output_type": "execute_result"
    }
   ],
   "source": [
    "socket.gethostname()"
   ]
  },
  {
   "cell_type": "code",
   "execution_count": 5,
   "metadata": {},
   "outputs": [
    {
     "data": {
      "text/plain": [
       "'192.168.56.1'"
      ]
     },
     "execution_count": 5,
     "metadata": {},
     "output_type": "execute_result"
    }
   ],
   "source": [
    "socket.gethostbyname(socket.gethostname())"
   ]
  },
  {
   "cell_type": "markdown",
   "metadata": {},
   "source": [
    "You can also find out about machines that are located elsewhere, assuming you know their hostname. For example:"
   ]
  },
  {
   "cell_type": "code",
   "execution_count": 6,
   "metadata": {},
   "outputs": [
    {
     "data": {
      "text/plain": [
       "'216.58.216.174'"
      ]
     },
     "execution_count": 6,
     "metadata": {},
     "output_type": "execute_result"
    }
   ],
   "source": [
    "socket.gethostbyname('google.com')"
   ]
  },
  {
   "cell_type": "code",
   "execution_count": 7,
   "metadata": {},
   "outputs": [
    {
     "data": {
      "text/plain": [
       "'128.95.155.198'"
      ]
     },
     "execution_count": 7,
     "metadata": {},
     "output_type": "execute_result"
    }
   ],
   "source": [
    "socket.gethostbyname('uw.edu')"
   ]
  },
  {
   "cell_type": "code",
   "execution_count": 8,
   "metadata": {},
   "outputs": [
    {
     "data": {
      "text/plain": [
       "'50.97.112.130'"
      ]
     },
     "execution_count": 8,
     "metadata": {},
     "output_type": "execute_result"
    }
   ],
   "source": [
    "socket.gethostbyname('cutecatvideos.net')"
   ]
  },
  {
   "cell_type": "markdown",
   "metadata": {},
   "source": [
    "The gethostbyname_ex method of the socket library provides more information about the machines we are exploring:"
   ]
  },
  {
   "cell_type": "code",
   "execution_count": 9,
   "metadata": {},
   "outputs": [
    {
     "data": {
      "text/plain": [
       "('cutecatvideos.net', [], ['50.97.112.130'])"
      ]
     },
     "execution_count": 9,
     "metadata": {},
     "output_type": "execute_result"
    }
   ],
   "source": [
    "socket.gethostbyname_ex('cutecatvideos.net')"
   ]
  },
  {
   "cell_type": "code",
   "execution_count": 10,
   "metadata": {},
   "outputs": [
    {
     "data": {
      "text/plain": [
       "('google.com', [], ['216.58.216.174'])"
      ]
     },
     "execution_count": 10,
     "metadata": {},
     "output_type": "execute_result"
    }
   ],
   "source": [
    "socket.gethostbyname_ex('google.com')"
   ]
  },
  {
   "cell_type": "markdown",
   "metadata": {},
   "source": [
    "To create a socket, you use the socket method of the socket library. It takes up to three optional positional arguments: family, type, proto, (and fileno)\n",
    "\n",
    "socket.socket(family=AF_INET, type=SOCK_STREAM, proto=0, fileno=None)\n",
    "\n",
    "The address family should be AF_INET (the default), AF_INET6, AF_UNIX, AF_CAN or AF_RDS. \n",
    "\n",
    "The socket type should be SOCK_STREAM (the default), SOCK_DGRAM, SOCK_RAW or perhaps one of the other SOCK_ constants. \n",
    "\n",
    "The protocol number is usually zero and may be omitted.\n",
    "\n",
    "Here we use none to get the default behavior:"
   ]
  },
  {
   "cell_type": "code",
   "execution_count": 14,
   "metadata": {},
   "outputs": [],
   "source": [
    "my_socket = socket.socket()"
   ]
  },
  {
   "cell_type": "code",
   "execution_count": 15,
   "metadata": {},
   "outputs": [
    {
     "data": {
      "text/plain": [
       "<socket.socket fd=1236, family=AddressFamily.AF_INET, type=SocketKind.SOCK_STREAM, proto=0>"
      ]
     },
     "execution_count": 15,
     "metadata": {},
     "output_type": "execute_result"
    }
   ],
   "source": [
    "my_socket"
   ]
  },
  {
   "cell_type": "markdown",
   "metadata": {},
   "source": [
    "A socket has some properties that are immediately important to us. These include the family, type and protocol of the socket:"
   ]
  },
  {
   "cell_type": "code",
   "execution_count": 16,
   "metadata": {},
   "outputs": [
    {
     "data": {
      "text/plain": [
       "<AddressFamily.AF_INET: 2>"
      ]
     },
     "execution_count": 16,
     "metadata": {},
     "output_type": "execute_result"
    }
   ],
   "source": [
    "my_socket.family"
   ]
  },
  {
   "cell_type": "code",
   "execution_count": 17,
   "metadata": {},
   "outputs": [
    {
     "data": {
      "text/plain": [
       "<SocketKind.SOCK_STREAM: 1>"
      ]
     },
     "execution_count": 17,
     "metadata": {},
     "output_type": "execute_result"
    }
   ],
   "source": [
    "my_socket.type"
   ]
  },
  {
   "cell_type": "code",
   "execution_count": 18,
   "metadata": {},
   "outputs": [
    {
     "data": {
      "text/plain": [
       "0"
      ]
     },
     "execution_count": 18,
     "metadata": {},
     "output_type": "execute_result"
    }
   ],
   "source": [
    "my_socket.proto"
   ]
  },
  {
   "cell_type": "markdown",
   "metadata": {},
   "source": [
    "You might notice that the values for these properties are integers. In fact, these integers are constants defined in the socket library."
   ]
  },
  {
   "cell_type": "markdown",
   "metadata": {},
   "source": [
    "## Customizing Sockets"
   ]
  },
  {
   "cell_type": "markdown",
   "metadata": {},
   "source": [
    "Family, Type, and Protocol are the properties of a socket correspond to the three positional arguments you may pass to the socket constructor. Changing these allows you to customize your sockets to use a specific communications profiles. For our purposes, we will accept the defaults, but you can find more information on the different families, types and protocols in the [Socket documentation](https://docs.python.org/3/library/socket.html).\n",
    "\n"
   ]
  },
  {
   "cell_type": "code",
   "execution_count": 27,
   "metadata": {},
   "outputs": [
    {
     "data": {
      "text/plain": [
       "<socket.socket fd=1228, family=AddressFamily.AF_INET, type=SocketKind.SOCK_DGRAM, proto=17>"
      ]
     },
     "execution_count": 27,
     "metadata": {},
     "output_type": "execute_result"
    }
   ],
   "source": [
    "socket.socket(socket.AF_INET, socket.SOCK_DGRAM, socket.IPPROTO_UDP)"
   ]
  },
  {
   "cell_type": "markdown",
   "metadata": {},
   "source": [
    "## Messages are Bytes"
   ]
  },
  {
   "cell_type": "markdown",
   "metadata": {},
   "source": [
    "We use sockets to send messages between a server and client. These messages must be sent as bytes, never unicode. When using sockets, you must encode a message before sending it though a socket."
   ]
  },
  {
   "cell_type": "code",
   "execution_count": 14,
   "metadata": {},
   "outputs": [],
   "source": [
    "my_msg = \"hello\".encode('utf8')"
   ]
  },
  {
   "cell_type": "markdown",
   "metadata": {},
   "source": [
    "You have now encoded my_msg into bytes. Print it how to see what happens."
   ]
  },
  {
   "cell_type": "code",
   "execution_count": 15,
   "metadata": {},
   "outputs": [
    {
     "name": "stdout",
     "output_type": "stream",
     "text": [
      "b'hello'\n"
     ]
    }
   ],
   "source": [
    "print(my_msg)"
   ]
  },
  {
   "cell_type": "markdown",
   "metadata": {},
   "source": [
    "The b let's you know the message is in bytes."
   ]
  },
  {
   "cell_type": "markdown",
   "metadata": {},
   "source": [
    "Decode a message received from a socket"
   ]
  },
  {
   "cell_type": "code",
   "execution_count": 16,
   "metadata": {},
   "outputs": [],
   "source": [
    "my_msg = my_msg.decode('utf8')"
   ]
  },
  {
   "cell_type": "code",
   "execution_count": 17,
   "metadata": {},
   "outputs": [
    {
     "name": "stdout",
     "output_type": "stream",
     "text": [
      "hello\n"
     ]
    }
   ],
   "source": [
    "print(my_msg)"
   ]
  },
  {
   "cell_type": "markdown",
   "metadata": {},
   "source": [
    "Now the message is a unicode string, like you are used to."
   ]
  },
  {
   "cell_type": "markdown",
   "metadata": {},
   "source": [
    "## Sockets to browse a web page"
   ]
  },
  {
   "cell_type": "markdown",
   "metadata": {},
   "source": [
    "Let's use a Python socket to read a web page. Its like using Python as a web browser!"
   ]
  },
  {
   "cell_type": "markdown",
   "metadata": {},
   "source": [
    "First, make an [HTTP request](https://en.wikipedia.org/wiki/Hypertext_Transfer_Protocol) following the proper protocol. Note that the request is in bytes."
   ]
  },
  {
   "cell_type": "code",
   "execution_count": 29,
   "metadata": {},
   "outputs": [],
   "source": [
    "request = b\"GET / HTTP/2.0\\nHost: www.cutecatvideos.net\\n\\n\""
   ]
  },
  {
   "cell_type": "markdown",
   "metadata": {},
   "source": [
    "Create a socket that will connect to the domain."
   ]
  },
  {
   "cell_type": "code",
   "execution_count": 35,
   "metadata": {},
   "outputs": [],
   "source": [
    "s = socket.socket()"
   ]
  },
  {
   "cell_type": "markdown",
   "metadata": {},
   "source": [
    "Connect to the domain on port 80, the web port."
   ]
  },
  {
   "cell_type": "code",
   "execution_count": 36,
   "metadata": {},
   "outputs": [],
   "source": [
    "s.connect((\"www.cutecatvideos.net\", 80))"
   ]
  },
  {
   "cell_type": "markdown",
   "metadata": {},
   "source": [
    "Send the request. This returns the length of the request."
   ]
  },
  {
   "cell_type": "code",
   "execution_count": 39,
   "metadata": {},
   "outputs": [
    {
     "data": {
      "text/plain": [
       "44"
      ]
     },
     "execution_count": 39,
     "metadata": {},
     "output_type": "execute_result"
    }
   ],
   "source": [
    "s.send(request)"
   ]
  },
  {
   "cell_type": "markdown",
   "metadata": {},
   "source": [
    "Create some variables for our buffer size, emtpy response (in bytes), and a boolean that we can use to end our loop."
   ]
  },
  {
   "cell_type": "code",
   "execution_count": 33,
   "metadata": {},
   "outputs": [],
   "source": [
    "buffsize = 4096\n",
    "response = b''\n",
    "done = False"
   ]
  },
  {
   "cell_type": "markdown",
   "metadata": {},
   "source": [
    "Read in chunks of the buffer size until the chunk is smaller than the buffer size (this means we've come to the last chunk. In that case, close the socket and end the loop. Finally, print the complete response."
   ]
  },
  {
   "cell_type": "code",
   "execution_count": 43,
   "metadata": {},
   "outputs": [
    {
     "name": "stdout",
     "output_type": "stream",
     "text": [
      "HTTP/1.1 200 OK\r\n",
      "Date: Sat, 23 Sep 2017 23:42:14 GMT\r\n",
      "Server: Apache/2.2.31 (Unix) mod_ssl/2.2.31 OpenSSL/1.0.1e-fips mod_bwlimited/1.4 PHP/5.6.29\r\n",
      "X-Powered-By: PHP/5.6.29\r\n",
      "Transfer-Encoding: chunked\r\n",
      "Content-Type: text/html; charset=UTF-8\r\n",
      "\r\n",
      "20b3\r\n",
      "\n",
      "<!DOCTYPE html PUBLIC \"-//W3C//DTD XHTML 1.0 Transitional//EN\" \"http://www.w3.org/TR/xhtml1/DTD/xhtml1-transitional.dtd\">\n",
      "<html xmlns=\"http://www.w3.org/1999/xhtml\">\n",
      "<head>\n",
      "<TITLE>Cute Cat Videos</TITLE>\n",
      "<META name=\"Description\" content=\"Watch the best and funniest cat videos from YouTube! Includes cute cats, cat tricks, goofy cats, cats playing piano, or cats with other animals.\">\n",
      "<META name=\"Keywords\" content=\"videos, cat\">\n",
      "<META name=\"ROBOTS\" content=\"INDEX,FOLLOW,ALL\">\n",
      "<META HTTP-EQUIV=\"Content-Type\" CONTENT=\"text/html; charset=windows-1252\">\n",
      "<META HTTP-EQUIV=\"Content-Language\" CONTENT=\"en-us\">\n",
      "<meta http-equiv=\"Content-Style-Type\" content=\"text/css\">\n",
      "<style>\n",
      "body {FONT-FAMILY: Arial, sans-serif; font-size:1.2em}\n",
      "h2 {FONT-FAMILY: Arial, sans-serif; color:#757e47; margin-top:40px; font-size:1.5em}\n",
      "a.topmenu {text-decoration:none; color: rgb(153, 0, 0); font-size:13px; }\n",
      "a.topmenu:hover{text-decoration:underline}\n",
      "p {line-height:120%; }\n",
      "table {line-height:120%; }\n",
      "td.tmenu {float:left; margin-left:3px; text-align:center;}\n",
      "div.sh {position: fixed; left:0px;  top: 25%; width: 100px;}\n",
      ".sharebt {border:4px solid #48669B; background-image:url(images/fb-s.gif); width:90px; height:90px}\n",
      "\n",
      "@media screen and (max-width: 550px) {\n",
      ".video {width: 480px !important; height: 270px !important}\n",
      "}\n",
      "@media screen and (max-width: 400px) {\n",
      ".video {width: 320px !important; height: 180px !important}\n",
      "div.sh {width: 55px !important}\n",
      ".sharebt {width:55px !important; height:55px !important}\n",
      "}\n",
      "@media screen and (max-width: 350px) {\n",
      ".video {width: 280px !important; height: 156px !important}\n",
      "\n",
      "}\n",
      "\n",
      "</style>\n",
      "<meta name=viewport content=\"width=device-width, initial-scale=1\">\n",
      "\n",
      "\n",
      "<!-- Begin Cookie Consent plugin by Silktide - http://silktide.com/cookieconsent -->\n",
      "<script type=\"text/javascript\">\n",
      "    window.cookieconsent_options = {\"message\":\"This website uses cookies to ensure you get the best experience on our website.&nbsp;\",\"dismiss\":\"Got it!\",\"learnMore\":\"More info.\",\"link\":\"http://www.cutecatvideos.net/privacy.php#cookies\",\"theme\":\"dark-top\"};\n",
      "</script>\n",
      "\n",
      "<script type=\"text/javascript\" src=\"//cdnjs.cloudflare.com/ajax/libs/cookieconsent2/1.0.9/cookieconsent.min.js\"></script>\n",
      "<!-- End Cookie Consent plugin -->\n",
      "\n",
      "</head>\n",
      "\n",
      "\n",
      "<body style=\"color: rgb(0, 0, 0); background-color: #c7ea84;\" alink=\"#000099\" link=\"#000099\" vlink=\"#990099\">\n",
      "\n",
      "\n",
      "<div align=center>\n",
      "<div style=\"text-align: left; max-width: 730px; background-color: #2e2e2e; padding:20px\">\n",
      "\n",
      "<header>\n",
      "\n",
      "<table width=100%>\n",
      "<tr><td style=\"max-width:350px\"><span style=\"font-family: Georgia; color: white; font-size:36px\">CUTE CAT VIDEOS</span></td>\n",
      "<td><hr size=2></td>\n",
      "</tr></table>\n",
      "\n",
      "<br>\n",
      "<a class=topmenu href=\"http://www.cutecatvideos.net/\"><img border=\"0\" style=\"border: 5px solid white; width: 100%; height: auto;\" alt=\"header\" src=\"images/default_header.jpg\"></a>\n",
      "</div>\n",
      "\n",
      "\n",
      "<div style=\"text-align: left; max-width: 750px; border:8px solid #848a68; background-color:white; padding:3px\">\n",
      "\n",
      "      <table style=\"width: 100%; border:1px solid #c0c0c0; margin:4px\" cellpadding=\"6\" cellspacing=\"0\">\n",
      "          <tr>\n",
      "            <td class=tmenu><a class=topmenu href=\"http://www.cutecatvideos.net/\">HOME</a></td>\n",
      "            <td class=tmenu><a class=topmenu href=\"cute-cats.php\">CUTE CATS 1</a>\n",
      "<a class=topmenu href=\"cute-cats-2.php\">2</a></td>\n",
      "            <td class=tmenu><a class=topmenu href=\"cats-at-piano.php\">CATS & PIANO</a></td>\n",
      "            <td class=tmenu><a class=topmenu href=\"funny-cats.php\">FUNNY CATS</a></td>\n",
      "            <td class=tmenu><a class=topmenu href=\"cat-tricks.php\">CAT TRICKS</a></td>\n",
      "            <td class=tmenu><a class=topmenu href=\"cats-other-animals.php\">CATS & OTHER ANIMALS</a></td>\n",
      "            <td class=tmenu><a class=topmenu href=\"cats-in-ads.php\">CATS IN ADS</a></td>\n",
      "          </tr>\n",
      "      </table>\n",
      "\n",
      "</div>\n",
      "\n",
      "<div style=\"text-align: left; max-width: 752px; border-left:6px solid #848a68; border-right:6px solid #848a68; border-bottom:8px solid #848a68; background-color:white; padding:3px\">\n",
      "\n",
      "<script async src=\"//pagead2.googlesyndication.com/pagead/js/adsbygoogle.js\"></script>\n",
      "<!-- CuteCatVideos top links -->\n",
      "<ins class=\"adsbygoogle\"\n",
      "     style=\"display:inline-block;width:728px;height:15px\"\n",
      "     data-ad-client=\"ca-pub-7506290436609470\"\n",
      "     data-ad-slot=\"8931979347\"></ins>\n",
      "<script>\n",
      "(adsbygoogle = window.adsbygoogle || []).push({});\n",
      "</script>\n",
      "\n",
      "</div>\n",
      "</header>\n",
      "<main>\n",
      "\n",
      "<div style=\"text-align: left; max-width: 740px; font-family: Arial; background-color: white; padding:15px\">\n",
      "\n",
      "\n",
      "<h1>Cute Cat Videos</h1>\n",
      "\n",
      "My aim is to scour YouTube and find the <b>BEST and FUNNIEST cat videos for you to watch!</b> Choose from different categories such as cute cats, cat tricks, goofy cats, cats playing piano, or cats &amp; other animals.<br>\n",
      "      <br>\n",
      "\n",
      "<style>\n",
      "td.s {margin:12px;float:left}\n",
      "</style>\n",
      "<div align=center>\n",
      "<center>\n",
      "<table cellspacing=16 border=0>\n",
      "<tr>\n",
      "<td class=\"s\">\n",
      "<a href='cute-cats.php'><img border=0 src=\"images/button1-s.jpg\" alt=\"cute cats\"></a><br><br>\n",
      "\n",
      "<a href=\"cute-cats.php\">Cute Cats</a> - click to see videos<br />featuring cute cats and kittens!\n",
      "</td>\n",
      "\n",
      "<td class=\"s\">\n",
      "<a href='funny-cats.php'><img border=0 src=\"images/button2-s.jpg\" alt=\"funny cats\"></a><br><br>\n",
      "\n",
      "<a href=\"funny-cats.php\">Funny Cats</a> - silly, funny,<br />or goofy kittens and cats.\n",
      "</td>\n",
      "</tr>\n",
      "\n",
      "<tr>\n",
      "<td class=\"s\">\n",
      "<a href='cats-at-piano.php'><img border=0 src=\"images/button3-s.jpg\" alt=\"cats at piano\"></a><br><Br>\n",
      "\n",
      "<a href=\"cats-at-piano.php\">Cats at piano</a> - see videos<br />of cats playing piano!\n",
      "</td>\n",
      "\n",
      "\n",
      "<td class=\"s\">\n",
      "<a href='cat-tricks.php'><img border=0 src=\"images/button4-s.jpg\" alt=\"cat tricks\"></a><br><Br>\n",
      "\n",
      "<a href=\"cat-tricks.php\">Cat Tricks Videos</a> -  videos of <br />cats and kittens doing tricks.\n",
      "</td>\n",
      "</tr>\n",
      "\n",
      "<tr>\n",
      "<td class=\"s\">\n",
      "<a href='cats-other-animals.php'><img border=0 src=\"images/button5-s.jpg\" alt=\"cats with other animals\"></a><br><Br>\n",
      "\n",
      "<a href=\"cats-other-animals.php\">Cats and Other Animals<br /></a> - these can be quite funny!<br>&nbsp;\n",
      "</td>\n",
      "\n",
      "<td class=\"s\">\n",
      "<a href='cats-in-ads.php'><img border=0 src=\"images/button6-s.jpg\" alt=\"cats in video ads\"></a><br><Br>\n",
      "\n",
      "<a href=\"cats-in-ads.php\">Cats in Advertisements<br /></a> - commercials using cats.<br>\n",
      "But only if done in good taste!\n",
      "</td>\n",
      "</tr>\n",
      "</table></center>\n",
      "</div>\n",
      "\n",
      " \n",
      "<p>This site is family-friendly. I post only videos that both children and adults can enjoy--and videos that truly are enjoyable (not boring, derogatory, hateful, or any such like). YouTube is full of cat videos, and you could search for cat videos there, but there are drawbacks:<br />\n",
      "\n",
      "<ul><li>YouTube contains tons of links to other related videos that sometimes you don't want your children to see.<br /><br /></li>\n",
      "\n",
      "<li>The videos often have comments, and some of those can be nasty, rude, or even vile, if the video owner has not been moderating them.<br /><br /></li>\n",
      "\n",
      "<li>Often the videos aren't that interesting. I know -- I've watched plenty of cat videos that were boring, because nearly nothing happened in the video.<br /></li>\n",
      "\n",
      "</ul><br />\n",
      "\n",
      "YouTube may show ads in the videos. You can close those ads from the \"X\" button. The videos on this site won't show related videos after being played. My purpose is just to let you browse funny and cute cat videos in a safe environment that is not too busy or filled with links, gadgets, or ads. I hope you enjoy your visit!<br />\n",
      "<br>\n",
      "<!--\n",
      "<hr size=\"1\">\n",
      "<P>Here's a cute, animated children's story <i>View from a Zoo</i> with a cat as the main character. The story is about a house-cat who searches for adventure in New York City, and teaches kids how reading can transport them in their thoughts and take them anywhere.</P>\n",
      "<p align=\"center\"><iframe class=\"video\" width=\"520\" height=\"322\" src=\"http://www.youtube-nocookie.com/embed/NmSzW8ejpVQ?rel=0\" frameborder=\"0\" allowfullscreen></iframe></p>\n",
      "\n",
      "\n",
      "<br>\n",
      "-->\n",
      "\n",
      "<br>\n",
      "\n",
      "\n",
      "</div>\n",
      "</main>\n",
      "\n",
      "<script type=\"text/javascript\">\n",
      "\n",
      "  var _gaq = _gaq || [];\n",
      "  _gaq.push(['_setAccount', 'UA-349523-8']);\n",
      "  _gaq.push(['_trackPageview']);\n",
      "\n",
      "  (function() {\n",
      "    var ga = document.createElement('script'); ga.type = 'text/javascript'; ga.async = true;\n",
      "    ga.src = ('https:' == document.location.protocol ? 'https://ssl' : 'http://www') + '.google-analytics.com/ga.js';\n",
      "    var s = document.getElementsByTagName('script')[0]; s.parentNode.insertBefore(ga, s);\n",
      "  })();\n",
      "\n",
      "</script>\n",
      "\n",
      "<footer>\n",
      "<!--<div style=\"background-color:#e0ea68; padding:10px\">-->\n",
      "\n",
      "\r\n",
      "821\r\n",
      "<div style=\"background-color:black; color:#fdff5d;  padding:10px; max-width:730px; border:10px solid #757e47; font-size:0.9em\">\n",
      "<p><a title=\"Travel back in time with VideoTimeTravel.com\"  href=\"cutecat-vtt-v.php\" target=\"_blank\" style=\"text-decoration:none; color:gold; font-size:24px; font-weight:bold\">Stories from antiquity &mdash; CLICK HERE</a></p>\n",
      "\n",
      "\n",
      "<p><a href=\"http://www.videotimetravel.com/\" target=\"_blank\"><img border=0 src=\"images/ancient-israel-figurines.jpg\" title=\"Ancient Israel camp depicted with clay figurines\" alt=\"Ancient Israel camp depicted with clay figurines\" style=\"width:100%\"></a></p>\n",
      "\n",
      "\n",
      "<p align=\"left\">We often see paintings or videos of events from ancient times,  depicted in forms of dress far different from what ancient information, statues, and drawings portray.  Most people shrug that off as nothing to be concerned about.  Yet, one of the main reasons so many people reject the <img src=\"images/book.png\" align=\"absmiddle\" style=\"width:60px\"> as an accurate historical document rests directly on that very problem! </p>\n",
      "\n",
      "<p align=\"left\">Worth considering??? It gives many answers that are desperately needed in today's world. Thus, CLIMB ABOARD... and let's <a style=\"color:red; font-weight:bold\" href=\"cutecat-vtt.php\" target=\"_blank\">'Time Travel' back to ancient times</a>, to use modern discoveries to learn and visually  portray the REAL TRUTH of this matter!!!\n",
      "</p>\n",
      "</div>\n",
      "\n",
      "\n",
      "<div style=\"max-width: 7\n"
     ]
    }
   ],
   "source": [
    "while not done:\n",
    "    msg_part = s.recv(buffsize)\n",
    "    if len(msg_part) < buffsize:\n",
    "        done = True\n",
    "        s.close()\n",
    "    response += msg_part\n",
    "print(response.decode('utf8'))"
   ]
  },
  {
   "cell_type": "markdown",
   "metadata": {},
   "source": [
    "The above is the HTTP contents of our website! Pretty neat, right?"
   ]
  },
  {
   "cell_type": "markdown",
   "metadata": {},
   "source": [
    "All together that's:"
   ]
  },
  {
   "cell_type": "code",
   "execution_count": 42,
   "metadata": {},
   "outputs": [
    {
     "name": "stdout",
     "output_type": "stream",
     "text": [
      "HTTP/1.1 200 OK\r\n",
      "Date: Sat, 23 Sep 2017 23:42:14 GMT\r\n",
      "Server: Apache/2.2.31 (Unix) mod_ssl/2.2.31 OpenSSL/1.0.1e-fips mod_bwlimited/1.4 PHP/5.6.29\r\n",
      "X-Powered-By: PHP/5.6.29\r\n",
      "Transfer-Encoding: chunked\r\n",
      "Content-Type: text/html; charset=UTF-8\r\n",
      "\r\n",
      "20b3\r\n",
      "\n",
      "<!DOCTYPE html PUBLIC \"-//W3C//DTD XHTML 1.0 Transitional//EN\" \"http://www.w3.org/TR/xhtml1/DTD/xhtml1-transitional.dtd\">\n",
      "<html xmlns=\"http://www.w3.org/1999/xhtml\">\n",
      "<head>\n",
      "<TITLE>Cute Cat Videos</TITLE>\n",
      "<META name=\"Description\" content=\"Watch the best and funniest cat videos from YouTube! Includes cute cats, cat tricks, goofy cats, cats playing piano, or cats with other animals.\">\n",
      "<META name=\"Keywords\" content=\"videos, cat\">\n",
      "<META name=\"ROBOTS\" content=\"INDEX,FOLLOW,ALL\">\n",
      "<META HTTP-EQUIV=\"Content-Type\" CONTENT=\"text/html; charset=windows-1252\">\n",
      "<META HTTP-EQUIV=\"Content-Language\" CONTENT=\"en-us\">\n",
      "<meta http-equiv=\"Content-Style-Type\" content=\"text/css\">\n",
      "<style>\n",
      "body {FONT-FAMILY: Arial, sans-serif; font-size:1.2em}\n",
      "h2 {FONT-FAMILY: Arial, sans-serif; color:#757e47; margin-top:40px; font-size:1.5em}\n",
      "a.topmenu {text-decoration:none; color: rgb(153, 0, 0); font-size:13px; }\n",
      "a.topmenu:hover{text-decoration:underline}\n",
      "p {line-height:120%; }\n",
      "table {line-height:120%; }\n",
      "td.tmenu {float:left; margin-left:3px; text-align:center;}\n",
      "div.sh {position: fixed; left:0px;  top: 25%; width: 100px;}\n",
      ".sharebt {border:4px solid #48669B; background-image:url(images/fb-s.gif); width:90px; height:90px}\n",
      "\n",
      "@media screen and (max-width: 550px) {\n",
      ".video {width: 480px !important; height: 270px !important}\n",
      "}\n",
      "@media screen and (max-width: 400px) {\n",
      ".video {width: 320px !important; height: 180px !important}\n",
      "div.sh {width: 55px !important}\n",
      ".sharebt {width:55px !important; height:55px !important}\n",
      "}\n",
      "@media screen and (max-width: 350px) {\n",
      ".video {width: 280px !important; height: 156px !important}\n",
      "\n",
      "}\n",
      "\n",
      "</style>\n",
      "<meta name=viewport content=\"width=device-width, initial-scale=1\">\n",
      "\n",
      "\n",
      "<!-- Begin Cookie Consent plugin by Silktide - http://silktide.com/cookieconsent -->\n",
      "<script type=\"text/javascript\">\n",
      "    window.cookieconsent_options = {\"message\":\"This website uses cookies to ensure you get the best experience on our website.&nbsp;\",\"dismiss\":\"Got it!\",\"learnMore\":\"More info.\",\"link\":\"http://www.cutecatvideos.net/privacy.php#cookies\",\"theme\":\"dark-top\"};\n",
      "</script>\n",
      "\n",
      "<script type=\"text/javascript\" src=\"//cdnjs.cloudflare.com/ajax/libs/cookieconsent2/1.0.9/cookieconsent.min.js\"></script>\n",
      "<!-- End Cookie Consent plugin -->\n",
      "\n",
      "</head>\n",
      "\n",
      "\n",
      "<body style=\"color: rgb(0, 0, 0); background-color: #c7ea84;\" alink=\"#000099\" link=\"#000099\" vlink=\"#990099\">\n",
      "\n",
      "\n",
      "<div align=center>\n",
      "<div style=\"text-align: left; max-width: 730px; background-color: #2e2e2e; padding:20px\">\n",
      "\n",
      "<header>\n",
      "\n",
      "<table width=100%>\n",
      "<tr><td style=\"max-width:350px\"><span style=\"font-family: Georgia; color: white; font-size:36px\">CUTE CAT VIDEOS</span></td>\n",
      "<td><hr size=2></td>\n",
      "</tr></table>\n",
      "\n",
      "<br>\n",
      "<a class=topmenu href=\"http://www.cutecatvideos.net/\"><img border=\"0\" style=\"border: 5px solid white; width: 100%; height: auto;\" alt=\"header\" src=\"images/default_header.jpg\"></a>\n",
      "</div>\n",
      "\n",
      "\n",
      "<div style=\"text-align: left; max-width: 750px; border:8px solid #848a68; background-color:white; padding:3px\">\n",
      "\n",
      "      <table style=\"width: 100%; border:1px solid #c0c0c0; margin:4px\" cellpadding=\"6\" cellspacing=\"0\">\n",
      "          <tr>\n",
      "            <td class=tmenu><a class=topmenu href=\"http://www.cutecatvideos.net/\">HOME</a></td>\n",
      "            <td class=tmenu><a class=topmenu href=\"cute-cats.php\">CUTE CATS 1</a>\n",
      "<a class=topmenu href=\"cute-cats-2.php\">2</a></td>\n",
      "            <td class=tmenu><a class=topmenu href=\"cats-at-piano.php\">CATS & PIANO</a></td>\n",
      "            <td class=tmenu><a class=topmenu href=\"funny-cats.php\">FUNNY CATS</a></td>\n",
      "            <td class=tmenu><a class=topmenu href=\"cat-tricks.php\">CAT TRICKS</a></td>\n",
      "            <td class=tmenu><a class=topmenu href=\"cats-other-animals.php\">CATS & OTHER ANIMALS</a></td>\n",
      "            <td class=tmenu><a class=topmenu href=\"cats-in-ads.php\">CATS IN ADS</a></td>\n",
      "          </tr>\n",
      "      </table>\n",
      "\n",
      "</div>\n",
      "\n",
      "<div style=\"text-align: left; max-width: 752px; border-left:6px solid #848a68; border-right:6px solid #848a68; border-bottom:8px solid #848a68; background-color:white; padding:3px\">\n",
      "\n",
      "<script async src=\"//pagead2.googlesyndication.com/pagead/js/adsbygoogle.js\"></script>\n",
      "<!-- CuteCatVideos top links -->\n",
      "<ins class=\"adsbygoogle\"\n",
      "     style=\"display:inline-block;width:728px;height:15px\"\n",
      "     data-ad-client=\"ca-pub-7506290436609470\"\n",
      "     data-ad-slot=\"8931979347\"></ins>\n",
      "<script>\n",
      "(adsbygoogle = window.adsbygoogle || []).push({});\n",
      "</script>\n",
      "\n",
      "</div>\n",
      "</header>\n",
      "<main>\n",
      "\n",
      "<div style=\"text-align: left; max-width: 740px; font-family: Arial; background-color: white; padding:15px\">\n",
      "\n",
      "\n",
      "<h1>Cute Cat Videos</h1>\n",
      "\n",
      "My aim is to scour YouTube and find the <b>BEST and FUNNIEST cat videos for you to watch!</b> Choose from different categories such as cute cats, cat tricks, goofy cats, cats playing piano, or cats &amp; other animals.<br>\n",
      "      <br>\n",
      "\n",
      "<style>\n",
      "td.s {margin:12px;float:left}\n",
      "</style>\n",
      "<div align=center>\n",
      "<center>\n",
      "<table cellspacing=16 border=0>\n",
      "<tr>\n",
      "<td class=\"s\">\n",
      "<a href='cute-cats.php'><img border=0 src=\"images/button1-s.jpg\" alt=\"cute cats\"></a><br><br>\n",
      "\n",
      "<a href=\"cute-cats.php\">Cute Cats</a> - click to see videos<br />featuring cute cats and kittens!\n",
      "</td>\n",
      "\n",
      "<td class=\"s\">\n",
      "<a href='funny-cats.php'><img border=0 src=\"images/button2-s.jpg\" alt=\"funny cats\"></a><br><br>\n",
      "\n",
      "<a href=\"funny-cats.php\">Funny Cats</a> - silly, funny,<br />or goofy kittens and cats.\n",
      "</td>\n",
      "</tr>\n",
      "\n",
      "<tr>\n",
      "<td class=\"s\">\n",
      "<a href='cats-at-piano.php'><img border=0 src=\"images/button3-s.jpg\" alt=\"cats at piano\"></a><br><Br>\n",
      "\n",
      "<a href=\"cats-at-piano.php\">Cats at piano</a> - see videos<br />of cats playing piano!\n",
      "</td>\n",
      "\n",
      "\n",
      "<td class=\"s\">\n",
      "<a href='cat-tricks.php'><img border=0 src=\"images/button4-s.jpg\" alt=\"cat tricks\"></a><br><Br>\n",
      "\n",
      "<a href=\"cat-tricks.php\">Cat Tricks Videos</a> -  videos of <br />cats and kittens doing tricks.\n",
      "</td>\n",
      "</tr>\n",
      "\n",
      "<tr>\n",
      "<td class=\"s\">\n",
      "<a href='cats-other-animals.php'><img border=0 src=\"images/button5-s.jpg\" alt=\"cats with other animals\"></a><br><Br>\n",
      "\n",
      "<a href=\"cats-other-animals.php\">Cats and Other Animals<br /></a> - these can be quite funny!<br>&nbsp;\n",
      "</td>\n",
      "\n",
      "<td class=\"s\">\n",
      "<a href='cats-in-ads.php'><img border=0 src=\"images/button6-s.jpg\" alt=\"cats in video ads\"></a><br><Br>\n",
      "\n",
      "<a href=\"cats-in-ads.php\">Cats in Advertisements<br /></a> - commercials using cats.<br>\n",
      "But only if done in good taste!\n",
      "</td>\n",
      "</tr>\n",
      "</table></center>\n",
      "</div>\n",
      "\n",
      " \n",
      "<p>This site is family-friendly. I post only videos that both children and adults can enjoy--and videos that truly are enjoyable (not boring, derogatory, hateful, or any such like). YouTube is full of cat videos, and you could search for cat videos there, but there are drawbacks:<br />\n",
      "\n",
      "<ul><li>YouTube contains tons of links to other related videos that sometimes you don't want your children to see.<br /><br /></li>\n",
      "\n",
      "<li>The videos often have comments, and some of those can be nasty, rude, or even vile, if the video owner has not been moderating them.<br /><br /></li>\n",
      "\n",
      "<li>Often the videos aren't that interesting. I know -- I've watched plenty of cat videos that were boring, because nearly nothing happened in the video.<br /></li>\n",
      "\n",
      "</ul><br />\n",
      "\n",
      "YouTube may show ads in the videos. You can close those ads from the \"X\" button. The videos on this site won't show related videos after being played. My purpose is just to let you browse funny and cute cat videos in a safe environment that is not too busy or filled with links, gadgets, or ads. I hope you enjoy your visit!<br />\n",
      "<br>\n",
      "<!--\n",
      "<hr size=\"1\">\n",
      "<P>Here's a cute, animated children's story <i>View from a Zoo</i> with a cat as the main character. The story is about a house-cat who searches for adventure in New York City, and teaches kids how reading can transport them in their thoughts and take them anywhere.</P>\n",
      "<p align=\"center\"><iframe class=\"video\" width=\"520\" height=\"322\" src=\"http://www.youtube-nocookie.com/embed/NmSzW8ejpVQ?rel=0\" frameborder=\"0\" allowfullscreen></iframe></p>\n",
      "\n",
      "\n",
      "<br>\n",
      "-->\n",
      "\n",
      "<br>\n",
      "\n",
      "\n",
      "</div>\n",
      "</main>\n",
      "\n",
      "<script type=\"text/javascript\">\n",
      "\n",
      "  var _gaq = _gaq || [];\n",
      "  _gaq.push(['_setAccount', 'UA-349523-8']);\n",
      "  _gaq.push(['_trackPageview']);\n",
      "\n",
      "  (function() {\n",
      "    var ga = document.createElement('script'); ga.type = 'text/javascript'; ga.async = true;\n",
      "    ga.src = ('https:' == document.location.protocol ? 'https://ssl' : 'http://www') + '.google-analytics.com/ga.js';\n",
      "    var s = document.getElementsByTagName('script')[0]; s.parentNode.insertBefore(ga, s);\n",
      "  })();\n",
      "\n",
      "</script>\n",
      "\n",
      "<footer>\n",
      "<!--<div style=\"background-color:#e0ea68; padding:10px\">-->\n",
      "\n",
      "\r\n",
      "821\r\n",
      "<div style=\"background-color:black; color:#fdff5d;  padding:10px; max-width:730px; border:10px solid #757e47; font-size:0.9em\">\n",
      "<p><a title=\"Travel back in time with VideoTimeTravel.com\"  href=\"cutecat-vtt-v.php\" target=\"_blank\" style=\"text-decoration:none; color:gold; font-size:24px; font-weight:bold\">Stories from antiquity &mdash; CLICK HERE</a></p>\n",
      "\n",
      "\n",
      "<p><a href=\"http://www.videotimetravel.com/\" target=\"_blank\"><img border=0 src=\"images/ancient-israel-figurines.jpg\" title=\"Ancient Israel camp depicted with clay figurines\" alt=\"Ancient Israel camp depicted with clay figurines\" style=\"width:100%\"></a></p>\n",
      "\n",
      "\n",
      "<p align=\"left\">We often see paintings or videos of events from ancient times,  depicted in forms of dress far different from what ancient information, statues, and drawings portray.  Most people shrug that off as nothing to be concerned about.  Yet, one of the main reasons so many people reject the <img src=\"images/book.png\" align=\"absmiddle\" style=\"width:60px\"> as an accurate historical document rests directly on that very problem! </p>\n",
      "\n",
      "<p align=\"left\">Worth considering??? It gives many answers that are desperately needed in today's world. Thus, CLIMB ABOARD... and let's <a style=\"color:red; font-weight:bold\" href=\"cutecat-vtt.php\" target=\"_blank\">'Time Travel' back to ancient times</a>, to use modern discoveries to learn and visually  portray the REAL TRUTH of this matter!!!\n",
      "</p>\n",
      "</div>\n",
      "\n",
      "\n",
      "<div style=\"max-width: 7\n"
     ]
    }
   ],
   "source": [
    "import socket\n",
    "request = b\"GET / HTTP/2.0\\nHost: www.cutecatvideos.net\\n\\n\"\n",
    "s = socket.socket(socket.AF_INET, socket.SOCK_STREAM)\n",
    "s.connect((\"www.cutecatvideos.net\", 80))\n",
    "s.send(request)\n",
    "\n",
    "buffsize = 4096\n",
    "response = b''\n",
    "done = False\n",
    "while not done:\n",
    "    msg_part = s.recv(buffsize)\n",
    "    if len(msg_part) < buffsize:\n",
    "        done = True\n",
    "        s.close()\n",
    "    response += msg_part\n",
    "    \n",
    "print(response.decode())"
   ]
  },
  {
   "cell_type": "markdown",
   "metadata": {},
   "source": [
    "Try it with another website and see what happens!"
   ]
  },
  {
   "cell_type": "markdown",
   "metadata": {},
   "source": [
    "### Sneak peak at the requests library"
   ]
  },
  {
   "cell_type": "markdown",
   "metadata": {},
   "source": [
    "Psst... you wouldn't actually use sockets to access the html and other properties of webpages nowadays. You would use a modmern library like [Requests](http://docs.python-requests.org/en/master/) which makes it super simple. Requests does not ship with Python, so you must pip install it first."
   ]
  },
  {
   "cell_type": "code",
   "execution_count": 6,
   "metadata": {},
   "outputs": [
    {
     "name": "stdout",
     "output_type": "stream",
     "text": [
      "\n",
      "<!DOCTYPE html PUBLIC \"-//W3C//DTD XHTML 1.0 Transitional//EN\" \"http://www.w3.org/TR/xhtml1/DTD/xhtml1-transitional.dtd\">\n",
      "<html xmlns=\"http://www.w3.org/1999/xhtml\">\n",
      "<head>\n",
      "<TITLE>Cute Cat Videos</TITLE>\n",
      "<META name=\"Description\" content=\"Watch the best and funniest cat videos from YouTube! Includes cute cats, cat tricks, goofy cats, cats playing piano, or cats with other animals.\">\n",
      "<META name=\"Keywords\" content=\"videos, cat\">\n",
      "<META name=\"ROBOTS\" content=\"INDEX,FOLLOW,ALL\">\n",
      "<META HTTP-EQUIV=\"Content-Type\" CONTENT=\"text/html; charset=windows-1252\">\n",
      "<META HTTP-EQUIV=\"Content-Language\" CONTENT=\"en-us\">\n",
      "<meta http-equiv=\"Content-Style-Type\" content=\"text/css\">\n",
      "<style>\n",
      "body {FONT-FAMILY: Arial, sans-serif; font-size:1.2em}\n",
      "h2 {FONT-FAMILY: Arial, sans-serif; color:#757e47; margin-top:40px; font-size:1.5em}\n",
      "a.topmenu {text-decoration:none; color: rgb(153, 0, 0); font-size:13px; }\n",
      "a.topmenu:hover{text-decoration:underline}\n",
      "p {line-height:120%; }\n",
      "table {line-height:120%; }\n",
      "td.tmenu {float:left; margin-left:3px; text-align:center;}\n",
      "div.sh {position: fixed; left:0px;  top: 25%; width: 100px;}\n",
      ".sharebt {border:4px solid #48669B; background-image:url(images/fb-s.gif); width:90px; height:90px}\n",
      "\n",
      "@media screen and (max-width: 550px) {\n",
      ".video {width: 480px !important; height: 270px !important}\n",
      "}\n",
      "@media screen and (max-width: 400px) {\n",
      ".video {width: 320px !important; height: 180px !important}\n",
      "div.sh {width: 55px !important}\n",
      ".sharebt {width:55px !important; height:55px !important}\n",
      "}\n",
      "@media screen and (max-width: 350px) {\n",
      ".video {width: 280px !important; height: 156px !important}\n",
      "\n",
      "}\n",
      "\n",
      "</style>\n",
      "<meta name=viewport content=\"width=device-width, initial-scale=1\">\n",
      "\n",
      "\n",
      "<!-- Begin Cookie Consent plugin by Silktide - http://silktide.com/cookieconsent -->\n",
      "<script type=\"text/javascript\">\n",
      "    window.cookieconsent_options = {\"message\":\"This website uses cookies to ensure you get the best experience on our website.&nbsp;\",\"dismiss\":\"Got it!\",\"learnMore\":\"More info.\",\"link\":\"http://www.cutecatvideos.net/privacy.php#cookies\",\"theme\":\"dark-top\"};\n",
      "</script>\n",
      "\n",
      "<script type=\"text/javascript\" src=\"//cdnjs.cloudflare.com/ajax/libs/cookieconsent2/1.0.9/cookieconsent.min.js\"></script>\n",
      "<!-- End Cookie Consent plugin -->\n",
      "\n",
      "</head>\n",
      "\n",
      "\n",
      "<body style=\"color: rgb(0, 0, 0); background-color: #c7ea84;\" alink=\"#000099\" link=\"#000099\" vlink=\"#990099\">\n",
      "\n",
      "\n",
      "<div align=center>\n",
      "<div style=\"text-align: left; max-width: 730px; background-color: #2e2e2e; padding:20px\">\n",
      "\n",
      "<header>\n",
      "\n",
      "<table width=100%>\n",
      "<tr><td style=\"max-width:350px\"><span style=\"font-family: Georgia; color: white; font-size:36px\">CUTE CAT VIDEOS</span></td>\n",
      "<td><hr size=2></td>\n",
      "</tr></table>\n",
      "\n",
      "<br>\n",
      "<a class=topmenu href=\"http://www.cutecatvideos.net/\"><img border=\"0\" style=\"border: 5px solid white; width: 100%; height: auto;\" alt=\"header\" src=\"images/default_header.jpg\"></a>\n",
      "</div>\n",
      "\n",
      "\n",
      "<div style=\"text-align: left; max-width: 750px; border:8px solid #848a68; background-color:white; padding:3px\">\n",
      "\n",
      "      <table style=\"width: 100%; border:1px solid #c0c0c0; margin:4px\" cellpadding=\"6\" cellspacing=\"0\">\n",
      "          <tr>\n",
      "            <td class=tmenu><a class=topmenu href=\"http://www.cutecatvideos.net/\">HOME</a></td>\n",
      "            <td class=tmenu><a class=topmenu href=\"cute-cats.php\">CUTE CATS 1</a>\n",
      "<a class=topmenu href=\"cute-cats-2.php\">2</a></td>\n",
      "            <td class=tmenu><a class=topmenu href=\"cats-at-piano.php\">CATS & PIANO</a></td>\n",
      "            <td class=tmenu><a class=topmenu href=\"funny-cats.php\">FUNNY CATS</a></td>\n",
      "            <td class=tmenu><a class=topmenu href=\"cat-tricks.php\">CAT TRICKS</a></td>\n",
      "            <td class=tmenu><a class=topmenu href=\"cats-other-animals.php\">CATS & OTHER ANIMALS</a></td>\n",
      "            <td class=tmenu><a class=topmenu href=\"cats-in-ads.php\">CATS IN ADS</a></td>\n",
      "          </tr>\n",
      "      </table>\n",
      "\n",
      "</div>\n",
      "\n",
      "<div style=\"text-align: left; max-width: 752px; border-left:6px solid #848a68; border-right:6px solid #848a68; border-bottom:8px solid #848a68; background-color:white; padding:3px\">\n",
      "\n",
      "<script async src=\"//pagead2.googlesyndication.com/pagead/js/adsbygoogle.js\"></script>\n",
      "<!-- CuteCatVideos top links -->\n",
      "<ins class=\"adsbygoogle\"\n",
      "     style=\"display:inline-block;width:728px;height:15px\"\n",
      "     data-ad-client=\"ca-pub-7506290436609470\"\n",
      "     data-ad-slot=\"8931979347\"></ins>\n",
      "<script>\n",
      "(adsbygoogle = window.adsbygoogle || []).push({});\n",
      "</script>\n",
      "\n",
      "</div>\n",
      "</header>\n",
      "<main>\n",
      "\n",
      "<div style=\"text-align: left; max-width: 740px; font-family: Arial; background-color: white; padding:15px\">\n",
      "\n",
      "\n",
      "<h1>Cute Cat Videos</h1>\n",
      "\n",
      "My aim is to scour YouTube and find the <b>BEST and FUNNIEST cat videos for you to watch!</b> Choose from different categories such as cute cats, cat tricks, goofy cats, cats playing piano, or cats &amp; other animals.<br>\n",
      "      <br>\n",
      "\n",
      "<style>\n",
      "td.s {margin:12px;float:left}\n",
      "</style>\n",
      "<div align=center>\n",
      "<center>\n",
      "<table cellspacing=16 border=0>\n",
      "<tr>\n",
      "<td class=\"s\">\n",
      "<a href='cute-cats.php'><img border=0 src=\"images/button1-s.jpg\" alt=\"cute cats\"></a><br><br>\n",
      "\n",
      "<a href=\"cute-cats.php\">Cute Cats</a> - click to see videos<br />featuring cute cats and kittens!\n",
      "</td>\n",
      "\n",
      "<td class=\"s\">\n",
      "<a href='funny-cats.php'><img border=0 src=\"images/button2-s.jpg\" alt=\"funny cats\"></a><br><br>\n",
      "\n",
      "<a href=\"funny-cats.php\">Funny Cats</a> - silly, funny,<br />or goofy kittens and cats.\n",
      "</td>\n",
      "</tr>\n",
      "\n",
      "<tr>\n",
      "<td class=\"s\">\n",
      "<a href='cats-at-piano.php'><img border=0 src=\"images/button3-s.jpg\" alt=\"cats at piano\"></a><br><Br>\n",
      "\n",
      "<a href=\"cats-at-piano.php\">Cats at piano</a> - see videos<br />of cats playing piano!\n",
      "</td>\n",
      "\n",
      "\n",
      "<td class=\"s\">\n",
      "<a href='cat-tricks.php'><img border=0 src=\"images/button4-s.jpg\" alt=\"cat tricks\"></a><br><Br>\n",
      "\n",
      "<a href=\"cat-tricks.php\">Cat Tricks Videos</a> -  videos of <br />cats and kittens doing tricks.\n",
      "</td>\n",
      "</tr>\n",
      "\n",
      "<tr>\n",
      "<td class=\"s\">\n",
      "<a href='cats-other-animals.php'><img border=0 src=\"images/button5-s.jpg\" alt=\"cats with other animals\"></a><br><Br>\n",
      "\n",
      "<a href=\"cats-other-animals.php\">Cats and Other Animals<br /></a> - these can be quite funny!<br>&nbsp;\n",
      "</td>\n",
      "\n",
      "<td class=\"s\">\n",
      "<a href='cats-in-ads.php'><img border=0 src=\"images/button6-s.jpg\" alt=\"cats in video ads\"></a><br><Br>\n",
      "\n",
      "<a href=\"cats-in-ads.php\">Cats in Advertisements<br /></a> - commercials using cats.<br>\n",
      "But only if done in good taste!\n",
      "</td>\n",
      "</tr>\n",
      "</table></center>\n",
      "</div>\n",
      "\n",
      " \n",
      "<p>This site is family-friendly. I post only videos that both children and adults can enjoy--and videos that truly are enjoyable (not boring, derogatory, hateful, or any such like). YouTube is full of cat videos, and you could search for cat videos there, but there are drawbacks:<br />\n",
      "\n",
      "<ul><li>YouTube contains tons of links to other related videos that sometimes you don't want your children to see.<br /><br /></li>\n",
      "\n",
      "<li>The videos often have comments, and some of those can be nasty, rude, or even vile, if the video owner has not been moderating them.<br /><br /></li>\n",
      "\n",
      "<li>Often the videos aren't that interesting. I know -- I've watched plenty of cat videos that were boring, because nearly nothing happened in the video.<br /></li>\n",
      "\n",
      "</ul><br />\n",
      "\n",
      "YouTube may show ads in the videos. You can close those ads from the \"X\" button. The videos on this site won't show related videos after being played. My purpose is just to let you browse funny and cute cat videos in a safe environment that is not too busy or filled with links, gadgets, or ads. I hope you enjoy your visit!<br />\n",
      "<br>\n",
      "<!--\n",
      "<hr size=\"1\">\n",
      "<P>Here's a cute, animated children's story <i>View from a Zoo</i> with a cat as the main character. The story is about a house-cat who searches for adventure in New York City, and teaches kids how reading can transport them in their thoughts and take them anywhere.</P>\n",
      "<p align=\"center\"><iframe class=\"video\" width=\"520\" height=\"322\" src=\"http://www.youtube-nocookie.com/embed/NmSzW8ejpVQ?rel=0\" frameborder=\"0\" allowfullscreen></iframe></p>\n",
      "\n",
      "\n",
      "<br>\n",
      "-->\n",
      "\n",
      "<br>\n",
      "\n",
      "\n",
      "</div>\n",
      "</main>\n",
      "\n",
      "<script type=\"text/javascript\">\n",
      "\n",
      "  var _gaq = _gaq || [];\n",
      "  _gaq.push(['_setAccount', 'UA-349523-8']);\n",
      "  _gaq.push(['_trackPageview']);\n",
      "\n",
      "  (function() {\n",
      "    var ga = document.createElement('script'); ga.type = 'text/javascript'; ga.async = true;\n",
      "    ga.src = ('https:' == document.location.protocol ? 'https://ssl' : 'http://www') + '.google-analytics.com/ga.js';\n",
      "    var s = document.getElementsByTagName('script')[0]; s.parentNode.insertBefore(ga, s);\n",
      "  })();\n",
      "\n",
      "</script>\n",
      "\n",
      "<footer>\n",
      "<!--<div style=\"background-color:#e0ea68; padding:10px\">-->\n",
      "\n",
      "<div style=\"background-color:black; color:#fdff5d;  padding:10px; max-width:730px; border:10px solid #757e47; font-size:0.9em\">\n",
      "<p><a title=\"Travel back in time with VideoTimeTravel.com\"  href=\"cutecat-vtt-v.php\" target=\"_blank\" style=\"text-decoration:none; color:gold; font-size:24px; font-weight:bold\">Stories from antiquity &mdash; CLICK HERE</a></p>\n",
      "\n",
      "\n",
      "<p><a href=\"http://www.videotimetravel.com/\" target=\"_blank\"><img border=0 src=\"images/Adam-tiger-garden-Eden.jpg\" title=\"Adam tiger garden Eden\" alt=\"Adam tiger garden Eden\" style=\"width:100%\"></a></p>\n",
      "\n",
      "\n",
      "<p align=\"left\">We often see paintings or videos of events from ancient times,  depicted in forms of dress far different from what ancient information, statues, and drawings portray.  Most people shrug that off as nothing to be concerned about.  Yet, one of the main reasons so many people reject the <img src=\"images/book.png\" align=\"absmiddle\" style=\"width:60px\"> as an accurate historical document rests directly on that very problem! </p>\n",
      "\n",
      "<p align=\"left\">Worth considering??? It gives many answers that are desperately needed in today's world. Thus, CLIMB ABOARD... and let's <a style=\"color:red; font-weight:bold\" href=\"cutecat-vtt.php\" target=\"_blank\">'Time Travel' back to ancient times</a>, to use modern discoveries to learn and visually  portray the REAL TRUTH of this matter!!!\n",
      "</p>\n",
      "</div>\n",
      "\n",
      "\n",
      "<div style=\"max-width: 730px; background-color: #2e2e2e; padding:20px; text-align:center; color:white; font-size:14px;font-family: arial;\">\n",
      "Copyright 2010-2017 CuteCatVideos.net\n",
      "<br><a class=topmenu href=\"contact.php\"><font color=white rel=\"nofollow\">Contact</font></a>\n",
      "&nbsp; &nbsp; <a class=topmenu href=\"privacy.php\" rel=\"nofollow\"><font color=white>Privacy</font></a>\n",
      "</div>\n",
      "\n",
      "</footer>\n",
      "\n",
      "</body></html>\n",
      "\n",
      "\n",
      "\n",
      "<p><a href=\"http://www.catresourcedirectory.com/\" target=\"_blank\"><font size=\"1\">Cat Resource Directory</font></a></p>\n",
      "\n",
      "<p><a href=\"http://www.thecatsite.com/\" target=\"_blank\"><font size=\"1\">The Cat Site.com - it's about cats cats cats</font></a></p>\n",
      "\n",
      "\n",
      "\n"
     ]
    }
   ],
   "source": [
    "import requests\n",
    "print(requests.get('http://www.cutecatvideos.net').text)"
   ]
  },
  {
   "cell_type": "markdown",
   "metadata": {},
   "source": [
    "Now we'll open iPython in two seperate terminals to demonstrate communication between client and server sockets. See the README for more info."
   ]
  }
 ],
 "metadata": {
  "kernelspec": {
   "display_name": "Python 3",
   "language": "python",
   "name": "python3"
  },
  "language_info": {
   "codemirror_mode": {
    "name": "ipython",
    "version": 3
   },
   "file_extension": ".py",
   "mimetype": "text/x-python",
   "name": "python",
   "nbconvert_exporter": "python",
   "pygments_lexer": "ipython3",
   "version": "3.6.2"
  }
 },
 "nbformat": 4,
 "nbformat_minor": 2
}
